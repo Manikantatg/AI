{
 "cells": [
  {
   "cell_type": "code",
   "execution_count": null,
   "id": "a163822b-9c41-40d0-928e-ee2be2ccf44e",
   "metadata": {},
   "outputs": [],
   "source": []
  }
 ],
 "metadata": {
  "kernelspec": {
   "display_name": "",
   "name": ""
  },
  "language_info": {
   "name": ""
  }
 },
 "nbformat": 4,
 "nbformat_minor": 5
}
