{
 "cells": [
  {
   "cell_type": "code",
   "execution_count": 4,
   "id": "a163822b-9c41-40d0-928e-ee2be2ccf44e",
   "metadata": {},
   "outputs": [],
   "source": [
    "import pandas as pd\n",
    "import numpy as np\n",
    "import matplotlib.pyplot as plt\n",
    "from sklearn.cluster import KMeans\n",
    "from sklearn.preprocessing import StandardScaler\n",
    "from sklearn.metrics import silhouette_score"
   ]
  },
  {
   "cell_type": "code",
   "execution_count": 5,
   "id": "8fe59808-bf42-49d7-a91e-4039117c2974",
   "metadata": {},
   "outputs": [
    {
     "data": {
      "text/html": [
       "<div>\n",
       "<style scoped>\n",
       "    .dataframe tbody tr th:only-of-type {\n",
       "        vertical-align: middle;\n",
       "    }\n",
       "\n",
       "    .dataframe tbody tr th {\n",
       "        vertical-align: top;\n",
       "    }\n",
       "\n",
       "    .dataframe thead th {\n",
       "        text-align: right;\n",
       "    }\n",
       "</style>\n",
       "<table border=\"1\" class=\"dataframe\">\n",
       "  <thead>\n",
       "    <tr style=\"text-align: right;\">\n",
       "      <th></th>\n",
       "      <th>temperature</th>\n",
       "      <th>humidity</th>\n",
       "      <th>wind_speed</th>\n",
       "      <th>carbon_emissions</th>\n",
       "      <th>solar_irradiance</th>\n",
       "      <th>pollution_level</th>\n",
       "    </tr>\n",
       "  </thead>\n",
       "  <tbody>\n",
       "    <tr>\n",
       "      <th>0</th>\n",
       "      <td>22.490802</td>\n",
       "      <td>52.418449</td>\n",
       "      <td>19.599966</td>\n",
       "      <td>337.165056</td>\n",
       "      <td>369.020837</td>\n",
       "      <td>84.723658</td>\n",
       "    </tr>\n",
       "    <tr>\n",
       "      <th>1</th>\n",
       "      <td>34.014286</td>\n",
       "      <td>49.974726</td>\n",
       "      <td>8.690240</td>\n",
       "      <td>256.681604</td>\n",
       "      <td>185.335998</td>\n",
       "      <td>49.451704</td>\n",
       "    </tr>\n",
       "    <tr>\n",
       "      <th>2</th>\n",
       "      <td>29.639879</td>\n",
       "      <td>40.569235</td>\n",
       "      <td>11.932794</td>\n",
       "      <td>484.024336</td>\n",
       "      <td>213.723302</td>\n",
       "      <td>19.546561</td>\n",
       "    </tr>\n",
       "    <tr>\n",
       "      <th>3</th>\n",
       "      <td>26.973170</td>\n",
       "      <td>66.436000</td>\n",
       "      <td>18.265613</td>\n",
       "      <td>148.540303</td>\n",
       "      <td>262.604015</td>\n",
       "      <td>73.664179</td>\n",
       "    </tr>\n",
       "    <tr>\n",
       "      <th>4</th>\n",
       "      <td>18.120373</td>\n",
       "      <td>58.597450</td>\n",
       "      <td>14.641787</td>\n",
       "      <td>314.535387</td>\n",
       "      <td>283.288001</td>\n",
       "      <td>41.867814</td>\n",
       "    </tr>\n",
       "  </tbody>\n",
       "</table>\n",
       "</div>"
      ],
      "text/plain": [
       "   temperature   humidity  wind_speed  carbon_emissions  solar_irradiance  \\\n",
       "0    22.490802  52.418449   19.599966        337.165056        369.020837   \n",
       "1    34.014286  49.974726    8.690240        256.681604        185.335998   \n",
       "2    29.639879  40.569235   11.932794        484.024336        213.723302   \n",
       "3    26.973170  66.436000   18.265613        148.540303        262.604015   \n",
       "4    18.120373  58.597450   14.641787        314.535387        283.288001   \n",
       "\n",
       "   pollution_level  \n",
       "0        84.723658  \n",
       "1        49.451704  \n",
       "2        19.546561  \n",
       "3        73.664179  \n",
       "4        41.867814  "
      ]
     },
     "execution_count": 5,
     "metadata": {},
     "output_type": "execute_result"
    }
   ],
   "source": [
    "data = pd.read_csv('environmental factors.csv')\n",
    "data.head()"
   ]
  },
  {
   "cell_type": "code",
   "execution_count": 6,
   "id": "06d97e97-38ab-4130-b1cf-57a62e4c2f35",
   "metadata": {},
   "outputs": [
    {
     "name": "stdout",
     "output_type": "stream",
     "text": [
      "   temperature  humidity  wind_speed  carbon_emissions  solar_irradiance  \\\n",
      "0    -0.415900 -0.452465    0.801884          0.482494         -0.684316   \n",
      "1     1.587377 -0.593258   -1.100359         -0.136414         -1.389866   \n",
      "2     0.826917 -1.135149   -0.534981          1.611824         -1.280827   \n",
      "3     0.363328  0.355146    0.569224         -0.968007         -1.093072   \n",
      "4    -1.175669 -0.096466   -0.062635          0.308475         -1.013623   \n",
      "\n",
      "   pollution_level  \n",
      "0         1.193409  \n",
      "1        -0.029923  \n",
      "2        -1.067119  \n",
      "3         0.809835  \n",
      "4        -0.292954  \n"
     ]
    }
   ],
   "source": [
    "scaler = StandardScaler()\n",
    "data_scaled = scaler.fit_transform(data)\n",
    "print(pd.DataFrame(data_scaled, columns=data.columns).head())"
   ]
  },
  {
   "cell_type": "code",
   "execution_count": 7,
   "id": "76e4323a-e95c-407f-94c2-75f9da900922",
   "metadata": {},
   "outputs": [
    {
     "name": "stdout",
     "output_type": "stream",
     "text": [
      "   temperature   humidity  wind_speed  carbon_emissions  solar_irradiance  \\\n",
      "0    22.490802  52.418449   19.599966        337.165056        369.020837   \n",
      "1    34.014286  49.974726    8.690240        256.681604        185.335998   \n",
      "2    29.639879  40.569235   11.932794        484.024336        213.723302   \n",
      "3    26.973170  66.436000   18.265613        148.540303        262.604015   \n",
      "4    18.120373  58.597450   14.641787        314.535387        283.288001   \n",
      "\n",
      "   pollution_level  cluster  \n",
      "0        84.723658        6  \n",
      "1        49.451704        5  \n",
      "2        19.546561        6  \n",
      "3        73.664179        4  \n",
      "4        41.867814        6  \n"
     ]
    }
   ],
   "source": [
    "k=7\n",
    "kmeans = KMeans(n_clusters=k, random_state=42)\n",
    "data['cluster'] = kmeans.fit_predict(data_scaled)\n",
    "print(data.head())"
   ]
  },
  {
   "cell_type": "code",
   "execution_count": 8,
   "id": "00e5d5d4-83bb-4f0b-85b2-d306f0b2525f",
   "metadata": {},
   "outputs": [
    {
     "name": "stdout",
     "output_type": "stream",
     "text": [
      "Silhouette Score: (sil_score)\n"
     ]
    }
   ],
   "source": [
    "sil_score=silhouette_score(data_scaled, data['cluster'])\n",
    "print(f'Silhouette Score: (sil_score)')"
   ]
  }
 ],
 "metadata": {
  "kernelspec": {
   "display_name": "Python 3 (ipykernel)",
   "language": "python",
   "name": "python3"
  },
  "language_info": {
   "codemirror_mode": {
    "name": "ipython",
    "version": 3
   },
   "file_extension": ".py",
   "mimetype": "text/x-python",
   "name": "python",
   "nbconvert_exporter": "python",
   "pygments_lexer": "ipython3",
   "version": "3.12.9"
  }
 },
 "nbformat": 4,
 "nbformat_minor": 5
}
