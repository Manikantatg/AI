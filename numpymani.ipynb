{
 "cells": [
  {
   "cell_type": "code",
   "execution_count": 1,
   "id": "e6340ad1-616d-4588-94d0-9ab7c1d29035",
   "metadata": {},
   "outputs": [
    {
     "name": "stdout",
     "output_type": "stream",
     "text": [
      "Solar: 500 MWh\n",
      "Wind: 800 MWh\n",
      "Hydropower: 1200 MWh\n",
      "Geothermal: 600 MWh\n"
     ]
    }
   ],
   "source": [
    "import numpy as np\n",
    "\n",
    "energy_consumption = np.array([500, 800, 1200, 600])\n",
    "renewable_sources = ['Solar', 'Wind', 'Hydropower', 'Geothermal']\n",
    "\n",
    "for source, consumption in zip(renewable_sources, energy_consumption):\n",
    "    print(f\"{source}: {consumption} MWh\")\n"
   ]
  },
  {
   "cell_type": "code",
   "execution_count": 4,
   "id": "8fc771e6-0297-48ab-bef3-7e0490401456",
   "metadata": {},
   "outputs": [
    {
     "name": "stdout",
     "output_type": "stream",
     "text": [
      "Total energy consumption: 3100\n"
     ]
    }
   ],
   "source": [
    "energy_consumption = [500, 800, 1200, 600]\n",
    "total_consumption = sum(energy_consumption)\n",
    "\n",
    "print(f\"Total energy consumption: {total_consumption}\")\n"
   ]
  },
  {
   "cell_type": "code",
   "execution_count": 5,
   "id": "b5558d1c-c712-40f5-bba1-9f55caf52da2",
   "metadata": {},
   "outputs": [
    {
     "name": "stdout",
     "output_type": "stream",
     "text": [
      "Mean energy consumption: 775.0\n"
     ]
    }
   ],
   "source": [
    "energy_consumption = [500, 800, 1200, 600]\n",
    "mean_consumption = sum(energy_consumption) / len(energy_consumption)\n",
    "\n",
    "print(f\"Mean energy consumption: {mean_consumption}\")\n"
   ]
  },
  {
   "cell_type": "code",
   "execution_count": 7,
   "id": "b4197bda-b793-4161-be08-4f059aed32eb",
   "metadata": {},
   "outputs": [
    {
     "name": "stdout",
     "output_type": "stream",
     "text": [
      "[[ 500]\n",
      " [ 800]\n",
      " [1200]\n",
      " [ 600]]\n"
     ]
    }
   ],
   "source": [
    "import numpy as np\n",
    "\n",
    "energy_consumption = np.array([500, 800, 1200, 600])\n",
    "reshaped_array = energy_consumption.reshape(4, 1)\n",
    "\n",
    "print(reshaped_array)\n",
    "\n"
   ]
  }
 ],
 "metadata": {
  "kernelspec": {
   "display_name": "Python 3 (ipykernel)",
   "language": "python",
   "name": "python3"
  },
  "language_info": {
   "codemirror_mode": {
    "name": "ipython",
    "version": 3
   },
   "file_extension": ".py",
   "mimetype": "text/x-python",
   "name": "python",
   "nbconvert_exporter": "python",
   "pygments_lexer": "ipython3",
   "version": "3.12.9"
  }
 },
 "nbformat": 4,
 "nbformat_minor": 5
}
