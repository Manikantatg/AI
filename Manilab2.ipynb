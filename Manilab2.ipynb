{
 "cells": [
  {
   "cell_type": "code",
   "execution_count": 1,
   "id": "f73021fa-bf07-4157-9a9b-d8c4cff9a861",
   "metadata": {},
   "outputs": [
    {
     "name": "stdout",
     "output_type": "stream",
     "text": [
      "          project  Technology  capacity(MW)  cost (million $)    location  \\\n",
      "0    solar Fara A       solar           150               200  California   \n",
      "1  wind Turbine X        wind           300               400       Texas   \n",
      "2    hydropower Y  hydropower           200               350  Washington   \n",
      "3    solar Roof Z       solar            50               100      London   \n",
      "4      geothermal  geothermal           100               250       Dubai   \n",
      "\n",
      "   competition year  \n",
      "0              2025  \n",
      "1              2025  \n",
      "2              2025  \n",
      "3              2025  \n",
      "4              2025  \n"
     ]
    }
   ],
   "source": [
    "import pandas as pd\n",
    "\n",
    "renewable_sources = [\"solar\", \"wind\", \"hydropower\", \"geothermal\", \"biomass\"]\n",
    "\n",
    "data = {\n",
    "    \"project\": [\"solar Fara A\", \"wind Turbine X\", \"hydropower Y\", \"solar Roof Z\", \"geothermal\"],\n",
    "    \"Technology\": [\"solar\", \"wind\", \"hydropower\", \"solar\", \"geothermal\"],\n",
    "    \"capacity(MW)\": [150, 300, 200, 50, 100],\n",
    "    \"cost (million $)\": [200, 400, 350, 100, 250],\n",
    "    \"location\": [\"California\", \"Texas\", \"Washington\", \"London\", \"Dubai\"],\n",
    "    \"competition year\": [2025, 2025, 2025, 2025, 2025]\n",
    "}\n",
    "\n",
    "df = pd.DataFrame(data)\n",
    "\n",
    "print(df)\n"
   ]
  },
  {
   "cell_type": "code",
   "execution_count": 2,
   "id": "9311f6b7-28cd-4caf-bac3-f63b1c20a3e1",
   "metadata": {},
   "outputs": [
    {
     "data": {
      "text/html": [
       "<div>\n",
       "<style scoped>\n",
       "    .dataframe tbody tr th:only-of-type {\n",
       "        vertical-align: middle;\n",
       "    }\n",
       "\n",
       "    .dataframe tbody tr th {\n",
       "        vertical-align: top;\n",
       "    }\n",
       "\n",
       "    .dataframe thead th {\n",
       "        text-align: right;\n",
       "    }\n",
       "</style>\n",
       "<table border=\"1\" class=\"dataframe\">\n",
       "  <thead>\n",
       "    <tr style=\"text-align: right;\">\n",
       "      <th></th>\n",
       "      <th>project</th>\n",
       "      <th>Technology</th>\n",
       "      <th>capacity(MW)</th>\n",
       "      <th>cost (million $)</th>\n",
       "      <th>location</th>\n",
       "      <th>competition year</th>\n",
       "    </tr>\n",
       "  </thead>\n",
       "  <tbody>\n",
       "    <tr>\n",
       "      <th>0</th>\n",
       "      <td>solar Fara A</td>\n",
       "      <td>solar</td>\n",
       "      <td>150</td>\n",
       "      <td>200</td>\n",
       "      <td>California</td>\n",
       "      <td>2025</td>\n",
       "    </tr>\n",
       "    <tr>\n",
       "      <th>1</th>\n",
       "      <td>wind Turbine X</td>\n",
       "      <td>wind</td>\n",
       "      <td>300</td>\n",
       "      <td>400</td>\n",
       "      <td>Texas</td>\n",
       "      <td>2025</td>\n",
       "    </tr>\n",
       "    <tr>\n",
       "      <th>2</th>\n",
       "      <td>hydropower Y</td>\n",
       "      <td>hydropower</td>\n",
       "      <td>200</td>\n",
       "      <td>350</td>\n",
       "      <td>Washington</td>\n",
       "      <td>2025</td>\n",
       "    </tr>\n",
       "  </tbody>\n",
       "</table>\n",
       "</div>"
      ],
      "text/plain": [
       "          project  Technology  capacity(MW)  cost (million $)    location  \\\n",
       "0    solar Fara A       solar           150               200  California   \n",
       "1  wind Turbine X        wind           300               400       Texas   \n",
       "2    hydropower Y  hydropower           200               350  Washington   \n",
       "\n",
       "   competition year  \n",
       "0              2025  \n",
       "1              2025  \n",
       "2              2025  "
      ]
     },
     "execution_count": 2,
     "metadata": {},
     "output_type": "execute_result"
    }
   ],
   "source": [
    "projects_df = pd.DataFrame(data)\n",
    "filtered_projects = projects_df[projects_df[\"capacity(MW)\"] > 100]\n",
    "filtered_projects\n"
   ]
  },
  {
   "cell_type": "code",
   "execution_count": 5,
   "id": "c1c62a36-40c4-473e-b4e9-228b94270391",
   "metadata": {},
   "outputs": [
    {
     "name": "stdout",
     "output_type": "stream",
     "text": [
      "          project  Technology  capacity(MW)  cost (million $)    location  \\\n",
      "0    solar Fara A       solar           150               200  California   \n",
      "1  wind Turbine X        wind           300               400       Texas   \n",
      "2    hydropower Y  hydropower           200               350  Washington   \n",
      "3    solar Roof Z       solar            50               100      London   \n",
      "4      geothermal  geothermal           100               250       Dubai   \n",
      "\n",
      "   competition year  cost per MW (million $)  \n",
      "0              2025                 1.333333  \n",
      "1              2025                 1.333333  \n",
      "2              2025                 1.750000  \n",
      "3              2025                 2.000000  \n",
      "4              2025                 2.500000  \n"
     ]
    }
   ],
   "source": [
    "import pandas as pd\n",
    "\n",
    "renewable_sources = [\"solar\", \"wind\", \"hydropower\", \"geothermal\", \"biomass\"]\n",
    "\n",
    "data = {\n",
    "    \"project\": [\"solar Fara A\", \"wind Turbine X\", \"hydropower Y\", \"solar Roof Z\", \"geothermal\"],\n",
    "    \"Technology\": [\"solar\", \"wind\", \"hydropower\", \"solar\", \"geothermal\"],\n",
    "    \"capacity(MW)\": [150, 300, 200, 50, 100],\n",
    "    \"cost (million $)\": [200, 400, 350, 100, 250],\n",
    "    \"location\": [\"California\", \"Texas\", \"Washington\", \"London\", \"Dubai\"],\n",
    "    \"competition year\": [2025, 2025, 2025, 2025, 2025]\n",
    "}\n",
    "\n",
    "projects_df = pd.DataFrame(data)\n",
    "\n",
    "projects_df['cost per MW (million $)'] = projects_df['cost (million $)'] / projects_df['capacity(MW)']\n",
    "\n",
    "print(projects_df)\n"
   ]
  },
  {
   "cell_type": "code",
   "execution_count": 6,
   "id": "d637719d-2db1-4c06-9f8e-3f8466d824b5",
   "metadata": {},
   "outputs": [
    {
     "name": "stdout",
     "output_type": "stream",
     "text": [
      "Total Capacity (MW): 800\n",
      "Total Cost (million $): 1300\n"
     ]
    }
   ],
   "source": [
    "total_capacity = projects_df['capacity(MW)'].sum()\n",
    "total_cost = projects_df['cost (million $)'].sum()\n",
    "\n",
    "print(\"Total Capacity (MW):\", total_capacity)\n",
    "print(\"Total Cost (million $):\", total_cost)\n"
   ]
  },
  {
   "cell_type": "code",
   "execution_count": 7,
   "id": "285d2b5c-64da-4a4e-b566-b5677449f317",
   "metadata": {},
   "outputs": [
    {
     "name": "stdout",
     "output_type": "stream",
     "text": [
      "Technology\n",
      "geothermal    100\n",
      "hydropower    200\n",
      "solar         200\n",
      "wind          300\n",
      "Name: capacity(MW), dtype: int64\n"
     ]
    }
   ],
   "source": [
    "total_capacity_by_technology = projects_df.groupby('Technology')['capacity(MW)'].sum()\n",
    "\n",
    "print(total_capacity_by_technology)\n"
   ]
  }
 ],
 "metadata": {
  "kernelspec": {
   "display_name": "Python 3 (ipykernel)",
   "language": "python",
   "name": "python3"
  },
  "language_info": {
   "codemirror_mode": {
    "name": "ipython",
    "version": 3
   },
   "file_extension": ".py",
   "mimetype": "text/x-python",
   "name": "python",
   "nbconvert_exporter": "python",
   "pygments_lexer": "ipython3",
   "version": "3.12.9"
  }
 },
 "nbformat": 4,
 "nbformat_minor": 5
}
